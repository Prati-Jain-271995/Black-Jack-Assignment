{
 "cells": [
  {
   "cell_type": "code",
   "execution_count": 16,
   "id": "1f67e8b0",
   "metadata": {},
   "outputs": [],
   "source": [
    "test_board = [\"txt\",\" \",\" \",\" \",\" \",\" \",\" \",\" \",\" \",\" \"]"
   ]
  },
  {
   "cell_type": "code",
   "execution_count": 17,
   "id": "fdc59e50",
   "metadata": {},
   "outputs": [],
   "source": [
    "from IPython.display import clear_output\n",
    "def prnt_board(list):\n",
    "    clear_output()\n",
    "    # Print the board\n",
    "    \n",
    "    print('  |   |  ')\n",
    "    print( list[7]+' | '+ list[8] +' | '+ list[9])\n",
    "    print('  |   |  ')\n",
    "    print(\"---------\")\n",
    "    print('  |   |  ')\n",
    "    print( list[4]+' | '+ list[5] +' | '+ list[6])\n",
    "    print('  |   |  ')\n",
    "    print(\"---------\")\n",
    "    print('  |   |  ')\n",
    "    print( list[1]+' | '+ list[2] +' | '+ list[3])\n",
    "    print('  |   |  ')\n"
   ]
  },
  {
   "cell_type": "code",
   "execution_count": 19,
   "id": "b4bdd9c9",
   "metadata": {},
   "outputs": [],
   "source": [
    "def choose_marker():\n",
    "    choice = 'wrong'\n",
    "    player_1 = ''\n",
    "    player_2 = ''\n",
    "    while choice not in ['X','O']:\n",
    "        \n",
    "        choi = input('Player_1 choose a marker(X/O): ')\n",
    "        choice = choi.capitalize()\n",
    "        \n",
    "        if choice not in ['X','O']:\n",
    "            \n",
    "            print(\"Please choose among given option\")\n",
    "        \n",
    "        else:\n",
    "            if choice=='X':\n",
    "                player_1 = 'X'\n",
    "                player_2 = 'O'\n",
    "            else:\n",
    "                player_1 = 'O'\n",
    "                player_2 = 'X'\n",
    "    return player_1,player_2"
   ]
  },
  {
   "cell_type": "code",
   "execution_count": 20,
   "id": "935e9b00",
   "metadata": {},
   "outputs": [],
   "source": [
    "def place_marker(board,marker,position):\n",
    "    if board[position]==\" \":\n",
    "        board[position]=marker\n",
    "    else:\n",
    "        print(\"Choose another position\")\n",
    "    "
   ]
  },
  {
   "cell_type": "code",
   "execution_count": 21,
   "id": "26b30067",
   "metadata": {},
   "outputs": [],
   "source": [
    "def win_check(board,marker):\n",
    "    return board[1]==board[2]==board[3]==marker or board[4]==board[5]==board[6]==marker or board[7]==board[8]==board[9]==marker or board[1]==board[4]==board[7]==marker or board[2]==board[5]==board[8]==marker or board[3]==board[6]==board[9]==marker or board[1]==board[5]==board[9]==marker or board[3]==board[5]==board[7]==marker\n",
    "    \n",
    "    "
   ]
  },
  {
   "cell_type": "code",
   "execution_count": 35,
   "id": "c92b31b7",
   "metadata": {},
   "outputs": [],
   "source": [
    "from random import randint\n",
    "\n",
    "def choose_first():\n",
    "    r1 = randint(0,1)\n",
    "    if r1==0:\n",
    "        \n",
    "        return 'Player_1'\n",
    "    else:\n",
    "    \n",
    "        return 'Player_2'\n",
    "        "
   ]
  },
  {
   "cell_type": "code",
   "execution_count": 23,
   "id": "790c6f79",
   "metadata": {},
   "outputs": [],
   "source": [
    "def space_check(board, position):\n",
    "     return board[position]==\" \""
   ]
  },
  {
   "cell_type": "code",
   "execution_count": 24,
   "id": "d02df17c",
   "metadata": {},
   "outputs": [],
   "source": [
    "def full_board_check(board):\n",
    "    return \" \" not in board"
   ]
  },
  {
   "cell_type": "code",
   "execution_count": 25,
   "id": "3fb2c3a9",
   "metadata": {},
   "outputs": [],
   "source": [
    "# Just to check if it work with for loop I named it as full_board_check1 and tried both function this one and above one\n",
    "def full_board_check1(board):\n",
    "    for i in range(1,10):\n",
    "        if space_check(board,i):\n",
    "            return False\n",
    "    return True"
   ]
  },
  {
   "cell_type": "code",
   "execution_count": 26,
   "id": "c9870233",
   "metadata": {},
   "outputs": [],
   "source": [
    "def player_choice(board):\n",
    "    choi='wrong'\n",
    "    while choi not in range(1,10) or not space_check(board,choi):\n",
    "        choi = int(input(\"Choose the position(1-9): \"))\n",
    "        \n",
    "        if choi not in range(0,10):\n",
    "            print(\"Out of range\")\n",
    "    \n",
    "    \n",
    "    return choi"
   ]
  },
  {
   "cell_type": "code",
   "execution_count": 27,
   "id": "e21ccb8d",
   "metadata": {},
   "outputs": [],
   "source": [
    "def replay():\n",
    "    choic = 'wrong'\n",
    "    while choic not in [\"Yes\",\"No\"]:\n",
    "        choic = input(\"Do you wanna play again(Yes/No): \")\n",
    "        choice= choic.capitalize()\n",
    "        \n",
    "        if choice not in [\"Yes\",\"No\"]:\n",
    "            print(\"Choose Yes/No \")\n",
    "        else:\n",
    "            if choice==\"Yes\":\n",
    "                return True\n",
    "            else:\n",
    "                return False"
   ]
  },
  {
   "cell_type": "code",
   "execution_count": null,
   "id": "f77a7720",
   "metadata": {},
   "outputs": [
    {
     "name": "stdout",
     "output_type": "stream",
     "text": [
      "Welcom to Tic Tac Toe\n"
     ]
    }
   ],
   "source": [
    "print(\"Welcom to Tic Tac Toe\")\n",
    "\n",
    "while True:\n",
    "    # Set the board, choose the marker and first turn\n",
    "    my_board = [\"txt\",\" \",\" \",\" \",\" \",\" \",\" \",\" \",\" \",\" \"]\n",
    "    marker_player_1,marker_player_2=choose_marker()\n",
    "    turn = choose_first()\n",
    "    print(turn+' will play first')\n",
    "    \n",
    "    # Permission to start game\n",
    "    game = input(\"Are you ready to play(Yes/No): \")\n",
    "    if game.capitalize()==\"Yes\":\n",
    "        game_on= True\n",
    "    else:\n",
    "        game_on=False\n",
    "    \n",
    "    while game_on:\n",
    "         # Code if turn is of first player\n",
    "        if turn=='Player_1':\n",
    "            prnt_board(my_board)\n",
    "            print(\"Player_1 turn\")\n",
    "            position = player_choice(my_board)\n",
    "            place_marker(my_board,marker_player_1,position)\n",
    "           \n",
    "            if win_check(my_board,marker_player_1):\n",
    "                prnt_board(my_board)\n",
    "                print(\"Player_1 won the game\")\n",
    "                game_on = False\n",
    "            else:\n",
    "                if full_board_check(my_board): \n",
    "                    prnt_board(my_board)\n",
    "                    print(\"The game is draw\")\n",
    "                    break\n",
    "                else: \n",
    "                    turn = 'Player_2'           \n",
    "        # Code for second player turn            \n",
    "        else:\n",
    "            prnt_board(my_board)\n",
    "            print(\"Player_2 turn\")\n",
    "            position = player_choice(my_board)    \n",
    "            place_marker(my_board,marker_player_2,position)\n",
    "            \n",
    "            if win_check(my_board,marker_player_2):\n",
    "                prnt_board(my_board)\n",
    "                print(\"Player_2 won the game\")\n",
    "                game_on = False\n",
    "            else:\n",
    "                if full_board_check(my_board): \n",
    "                    prnt_board(my_board)\n",
    "                    print(\"The game is draw\")\n",
    "                    break\n",
    "                else:\n",
    "                    turn = 'Player_1'\n",
    "\n",
    "    if not replay():\n",
    "        break\n"
   ]
  },
  {
   "cell_type": "code",
   "execution_count": null,
   "id": "e3d9623c",
   "metadata": {},
   "outputs": [],
   "source": []
  }
 ],
 "metadata": {
  "kernelspec": {
   "display_name": "Python 3",
   "language": "python",
   "name": "python3"
  },
  "language_info": {
   "codemirror_mode": {
    "name": "ipython",
    "version": 3
   },
   "file_extension": ".py",
   "mimetype": "text/x-python",
   "name": "python",
   "nbconvert_exporter": "python",
   "pygments_lexer": "ipython3",
   "version": "3.8.8"
  }
 },
 "nbformat": 4,
 "nbformat_minor": 5
}
